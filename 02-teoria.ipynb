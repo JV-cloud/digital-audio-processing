{
 "cells": [
  {
   "cell_type": "code",
   "execution_count": null,
   "metadata": {},
   "outputs": [],
   "source": [
    "%matplotlib inline\n",
    "import matplotlib.pyplot as plt\n",
    "import numpy as np\n",
    "import librosa\n",
    "import librosa.display\n",
    "import IPython.display as ipd"
   ]
  },
  {
   "cell_type": "code",
   "execution_count": null,
   "metadata": {},
   "outputs": [],
   "source": [
    "def requantiza(sinal, nbits, B):\n",
    "    \"\"\"\n",
    "    Requantiza sinal amostrado originalmente com nbits\n",
    "    no sinal y representado com B bits\n",
    "    \n",
    "    input:\n",
    "        sinal: sinal original (assume-se media em torno de zero)\n",
    "        nbits: no. de bits da amostragem original\n",
    "        B: no. de bits da reamostragem\n",
    "    output:\n",
    "        y: sinal requantizado em B bits\n",
    "\n",
    "    Exemplo:\n",
    "    p = np.arange(-1,1,.1)\n",
    "    y0 = requantiza(p, 32, 1)\n",
    "    y1 = requantiza(p, 32, 2)\n",
    "    y2 = requantiza(p, 32, 4)\n",
    "    y3 = requantiza(p, 32, 8)\n",
    "\n",
    "    IS-25jan2017\n",
    "    \"\"\"\n",
    "    \n",
    "    if B >= nbits: # nada a fazer\n",
    "        y = sinal\n",
    "        return y\n",
    "\n",
    "    M = 2**(nbits-1)\n",
    "    Q = 2**(B-1)\n",
    "    \n",
    "    if max(sinal) - min(sinal) < 2: # sinal normalizado\n",
    "        sinal2 = sinal * M\n",
    "        if max(sinal2) > M:\n",
    "            print('Checar sinal')            \n",
    "            #print('sinal normalizado')\n",
    "            return None;\n",
    "\n",
    "    sinal2 = np.floor(sinal2);\n",
    "    y = np.floor(sinal2/M*Q);\n",
    "    y = y/Q;\n",
    "\n",
    "    return y"
   ]
  },
  {
   "cell_type": "markdown",
   "metadata": {},
   "source": [
    "## 1. Sinal Analógico *vs* Digital\n",
    "\n",
    "### Como é o áudio analógico\n",
    "\n",
    "É um sinal contínuo que representa uma onda de som. A figura que segue é um desenho um sinal analógico."
   ]
  },
  {
   "cell_type": "code",
   "execution_count": null,
   "metadata": {},
   "outputs": [],
   "source": [
    "x, sr = librosa.load('audios/simple_loop.wav')\n",
    "plt.figure(figsize=(16, 6))\n",
    "librosa.display.waveplot(x, sr=sr)\n",
    "plt.show()"
   ]
  },
  {
   "cell_type": "code",
   "execution_count": null,
   "metadata": {},
   "outputs": [],
   "source": [
    "print(x[:10])"
   ]
  },
  {
   "cell_type": "code",
   "execution_count": null,
   "metadata": {},
   "outputs": [],
   "source": [
    "r=5\n",
    "plt.bar(np.arange(r),x[:r])\n",
    "plt.show()"
   ]
  },
  {
   "cell_type": "markdown",
   "metadata": {},
   "source": [
    "Duas dimensões da figura:\n",
    "\n",
    "* **Tempo**: é a medida do tempo tempo, oras.\n",
    "* **Amplitude**: é a medida de mudança de um sinal durante um período.\n",
    "\n",
    "<div align=\"center\" style=\"width: 100%;\">\n",
    "    <img src=\"imgs/sine_voltage.svg\">    \n",
    "</div>\n",
    "\n",
    "Olha na curva:\n",
    "\n",
    "1. Amplitude de pico\n",
    "2. Amplitude pico à pico\n",
    "3. Amplitude RMS\n",
    "4. Período da onda (ok... não é uma amplitude. Mas o desenho que eu consegui na [wikipedia](https://en.wikipedia.org/wiki/Amplitude) tinha este número 4 aqui...)"
   ]
  },
  {
   "cell_type": "code",
   "execution_count": null,
   "metadata": {},
   "outputs": [],
   "source": [
    "# Generate an amplitude modulated signal:\n",
    "x = np.linspace(0, 10, 501)\n",
    "ampl = np.exp(-(x - 3.5)**2 / 0.8)\n",
    "y = np.sin(x * 25) * ampl\n",
    "\n",
    "plt.figure(figsize=(16,8))\n",
    "plt.plot(x, y, label='signal')\n",
    "plt.plot(x, ampl, ':', label='amplitude')\n",
    "plt.xlabel('time', fontsize=16)\n",
    "plt.ylabel('value', fontsize=16)\n",
    "plt.legend()\n",
    "plt.show()"
   ]
  },
  {
   "cell_type": "markdown",
   "metadata": {},
   "source": [
    "### Como é o áudio digital PCM\n",
    "\n",
    "Um PCM é uma representação do sinal analógico que amostra regularmente a amplitude do sinal analógico quantizado em intervalos uniformes de tempo.\n",
    "\n",
    "### **Profundidade em bits**\n",
    "\n",
    "Número de níveis diferentes em que uma amostra pode ser quantizada.\n",
    "\n",
    "<div align=\"center\" style=\"width: 100%;\">\n",
    "    <img src=\"imgs/Figure-5.14-Wave-quantized-at-different-bit-depths.png\" style=\"width: 70%;\">\n",
    "</div>"
   ]
  },
  {
   "cell_type": "code",
   "execution_count": null,
   "metadata": {},
   "outputs": [],
   "source": [
    "p = np.arange(-1,1,.1)\n",
    "n = np.arange(0,len(p))\n",
    "\n",
    "y0 = requantiza(p, 32, 1)\n",
    "y1 = requantiza(p, 32, 2)\n",
    "y2 = requantiza(p, 32, 3)\n",
    "y3 = requantiza(p, 32, 4)\n",
    "y4 = requantiza(p, 32, 8)"
   ]
  },
  {
   "cell_type": "code",
   "execution_count": null,
   "metadata": {},
   "outputs": [],
   "source": [
    "plt.figure(figsize=(12,8))\n",
    "plt.scatter(n, p, color='r', label='original')\n",
    "plt.stem(n, y0, label='quantizado', use_line_collection=True)\n",
    "plt.xlabel('n', fontsize=16)\n",
    "plt.title('Quantização em 1 bit', fontsize=18)\n",
    "plt.grid()\n",
    "plt.show()"
   ]
  },
  {
   "cell_type": "code",
   "execution_count": null,
   "metadata": {},
   "outputs": [],
   "source": [
    "plt.figure(figsize=(12,8))\n",
    "plt.scatter(n, p, color='r', label='original')\n",
    "plt.stem(n, y1, label='quantizado', use_line_collection=True)\n",
    "plt.xlabel('n', fontsize=16)\n",
    "plt.title('Quantização em 2 bit', fontsize=18)\n",
    "plt.grid()\n",
    "plt.show()"
   ]
  },
  {
   "cell_type": "code",
   "execution_count": null,
   "metadata": {},
   "outputs": [],
   "source": [
    "plt.figure(figsize=(12,8))\n",
    "plt.scatter(n, p, color='r', label='original')\n",
    "plt.stem(n, y2, label='quantizado', use_line_collection=True)\n",
    "plt.xlabel('n', fontsize=16)\n",
    "plt.title('Quantização em 3 bit', fontsize=18)\n",
    "plt.grid()\n",
    "plt.show()"
   ]
  },
  {
   "cell_type": "code",
   "execution_count": null,
   "metadata": {},
   "outputs": [],
   "source": [
    "plt.figure(figsize=(12,8))\n",
    "plt.scatter(n, p, color='r', label='original')\n",
    "plt.stem(n, y3, label='quantizado', use_line_collection=True)\n",
    "plt.xlabel('n', fontsize=16)\n",
    "plt.title('Quantização em 4 bit', fontsize=18)\n",
    "plt.grid()\n",
    "plt.show()"
   ]
  },
  {
   "cell_type": "code",
   "execution_count": null,
   "metadata": {},
   "outputs": [],
   "source": [
    "plt.figure(figsize=(12,8))\n",
    "plt.scatter(n, p, color='r', label='original')\n",
    "plt.stem(n, y4, label='quantizado', use_line_collection=True)\n",
    "plt.xlabel('n', fontsize=16)\n",
    "plt.title('Quantização em 8 bit', fontsize=18)\n",
    "plt.grid()\n",
    "plt.show()"
   ]
  },
  {
   "cell_type": "markdown",
   "metadata": {},
   "source": [
    "### **Taxa de amostragem**\n",
    "\n",
    "É o número de amostras por intervalo de tempo geralmente medida em amostras por segundo.\n",
    "\n",
    "<div align=\"center\" style=\"width: 100%;\">\n",
    "    <img src=\"imgs/teces_164.gif\">    \n",
    "</div>"
   ]
  },
  {
   "cell_type": "code",
   "execution_count": null,
   "metadata": {},
   "outputs": [],
   "source": [
    "# geracao de forma de onda\n",
    "fs = 10000  # freq de amostragem\n",
    "T = 2  # duracao em segundos\n",
    "t = np.arange(fs*T)/fs  # tempo\n",
    "f1 = 100  # feq de sinal 1 em Hz\n",
    "f2 = 95  # feq de sinal 2 em Hz"
   ]
  },
  {
   "cell_type": "code",
   "execution_count": null,
   "metadata": {},
   "outputs": [],
   "source": [
    "# ref signal\n",
    "y = np.sin(2*np.pi*f1*t)\n",
    "\n",
    "# resample ref sinal with f2\n",
    "yn = y[::f2]"
   ]
  },
  {
   "cell_type": "code",
   "execution_count": null,
   "metadata": {},
   "outputs": [],
   "source": [
    "Y = np.abs(np.fft.fft(y))\n",
    "f = t / T * fs\n",
    "\n",
    "plt.figure(figsize=(18,4))\n",
    "plt.plot(f[0:400], Y[0:400])\n",
    "plt.grid()\n",
    "plt.xlabel('$f \\,$, Hz', fontsize=16)\n",
    "plt.title('$|Y(e^{j \\, 2 \\pi \\, f})|$', fontsize=18)\n",
    "plt.show()"
   ]
  },
  {
   "cell_type": "code",
   "execution_count": null,
   "metadata": {},
   "outputs": [],
   "source": [
    "plt.figure(figsize=(20, 8))\n",
    "dt = 2000  # faixa de observacao\n",
    "plt.plot(t[:dt], y[:dt])\n",
    "plt.title('y(t)', fontsize=18)\n",
    "plt.xlabel('t,s', fontsize=16)\n",
    "plt.grid()\n",
    "# sinal discreto no tempo\n",
    "plt.stem(t[:dt:f2], yn[:(dt//f2+1)], 'k', use_line_collection=True)\n",
    "plt.plot(t[:dt:f2], yn[:(dt//f2+1)], 'g:')\n",
    "plt.show()"
   ]
  },
  {
   "cell_type": "markdown",
   "metadata": {},
   "source": [
    "Importância de se garantir a frequência de amostragem correta.\n",
    "\n",
    "Abaixo ilustra-se uma senoide de 95 Hz amostrada a 100 Hz."
   ]
  },
  {
   "cell_type": "code",
   "execution_count": null,
   "metadata": {},
   "outputs": [],
   "source": [
    "fs=100 # freq. amostragem, Hz\n",
    "fa=95  # freq. sinal analógico, Hz\n",
    "T=0.2  # duracao em segundos\n",
    "t=np.arange(T*fs+1)/fs # tempo discreto\n",
    "ta=np.arange(T*fs*100)/(fs*100) # tempo\n",
    "pi = np.pi\n",
    "sd=np.cos(2*pi*(fs-fa)*t)  # sinal discreto\n",
    "sa=np.cos(2*pi*fa*ta)      # sinal analógico\n",
    "\n",
    "plt.figure(figsize=(18,18))\n",
    "plt.subplot(311)\n",
    "plt.plot(ta,sa,color='k'), plt.grid()\n",
    "plt.title(\"Sinal analógico, senoide de %g Hz\" % fa, fontsize=18)\n",
    "plt.xlabel(\"t, s\", fontsize=14)\n",
    "plt.subplot(312)\n",
    "plt.stem(t,sd, use_line_collection=True)\n",
    "#plt.hold(True)\n",
    "plt.plot(ta,sa,color='k')\n",
    "plt.plot(t,sd, ':')\n",
    "#plt.hold(False), plt.grid()\n",
    "plt.xlabel(\"t, s\", fontsize=14)\n",
    "plt.title(\"Senoide de %g Hz amostrada a %g Hz\" % (fa, fs), fontsize=18)\n",
    "plt.subplot(313)\n",
    "plt.stem(np.arange(T*fs+1),sd, use_line_collection=True)\n",
    "plt.title(\"Sinal discreto\", fontsize=18)\n",
    "plt.xlabel(\"n\", fontsize=14)\n",
    "plt.show()"
   ]
  },
  {
   "cell_type": "markdown",
   "metadata": {},
   "source": [
    "### Qualidade do áudio\n",
    "\n",
    "Ou seja, quanto maior a profundidade em bits e maior a taxa de amostragem, mais próximo do sinal analógico.\n",
    "\n",
    "<div align=\"center\" style=\"width: 100%;\">\n",
    "    <img src=\"imgs/Vol36_Sep08_ThinkingDigitally-graph1.png\">    \n",
    "</div>"
   ]
  },
  {
   "cell_type": "code",
   "execution_count": null,
   "metadata": {},
   "outputs": [],
   "source": []
  },
  {
   "cell_type": "code",
   "execution_count": null,
   "metadata": {},
   "outputs": [],
   "source": [
    "sample_rate = 8000 # amostras por segundo\n",
    "T = 5.0 # segundos\n",
    "t = np.linspace(0, T, int(T*sample_rate), endpoint=False) # time variable\n",
    "x = 0.5 * np.sin(2 * np.pi * 440 * t) #uma onda senoidal pura de 440 Hz (ISO 16!)\n",
    "\n",
    "np.linspace(0, T, int(T*sample_rate), endpoint=False) # time variable"
   ]
  },
  {
   "cell_type": "code",
   "execution_count": null,
   "metadata": {},
   "outputs": [],
   "source": [
    "ipd.Audio(x, rate=sample_rate) # Carrega a onda de 440Hz"
   ]
  },
  {
   "cell_type": "code",
   "execution_count": null,
   "metadata": {},
   "outputs": [],
   "source": [
    "y = 0.5*np.sin(2*np.pi*1000*t) #uma onda senoidal pura de 1000 Hz\n",
    "ipd.Audio(y, rate=sample_rate) # Carrega a onda de 1000Hz"
   ]
  },
  {
   "cell_type": "code",
   "execution_count": null,
   "metadata": {},
   "outputs": [],
   "source": [
    "xy = x + y\n",
    "ipd.Audio(xy, rate=sample_rate) # carrega o som de x + y"
   ]
  },
  {
   "cell_type": "markdown",
   "metadata": {},
   "source": [
    "## 2. Sinais no domínio do Tempo *vs* domínio da Frequência\n",
    "\n",
    "### Sinais no domínio do tempo\n",
    "\n",
    "Quando reproduzimos os sons digitais, transformamos os sinais em ondas mecânicas, que na verdade representam as variações da amplitude no tempo.\n",
    "\n",
    "Desenhamos as variações das amplitudes no tempo dos sinais x, y e xy, seguindo 1/8000 amostras por segundo"
   ]
  },
  {
   "cell_type": "code",
   "execution_count": null,
   "metadata": {},
   "outputs": [],
   "source": [
    "plt.figure(figsize=(18, 4))\n",
    "plt.plot(x[:int(0.01*8000)])\n",
    "plt.xlabel('Amostras', fontsize = 16)\n",
    "plt.ylabel('Amplitude', fontsize = 16)\n",
    "plt.title('Sinal X no domínio do Tempo', fontsize = 18)\n",
    "plt.grid(True)\n",
    "plt.show()"
   ]
  },
  {
   "cell_type": "code",
   "execution_count": null,
   "metadata": {},
   "outputs": [],
   "source": [
    "plt.figure(figsize=(18, 4))\n",
    "plt.plot(y[:int(0.01*8000)])\n",
    "plt.xlabel('Amostras', fontsize = 16)\n",
    "plt.ylabel('Amplitude', fontsize = 16)\n",
    "plt.title('Sinal Y no domínio do Tempo', fontsize = 18)\n",
    "plt.grid(True)\n",
    "plt.show()"
   ]
  },
  {
   "cell_type": "code",
   "execution_count": null,
   "metadata": {},
   "outputs": [],
   "source": [
    "plt.figure(figsize=(18, 4))\n",
    "plt.plot(xy[:int(0.01*8000)])\n",
    "plt.xlabel('Amostras', fontsize = 16)\n",
    "plt.ylabel('Amplitude', fontsize = 16)\n",
    "plt.title('Sinal XY no domínio do Tempo', fontsize = 18)\n",
    "plt.grid(True)\n",
    "plt.show()"
   ]
  },
  {
   "cell_type": "code",
   "execution_count": null,
   "metadata": {},
   "outputs": [],
   "source": []
  },
  {
   "cell_type": "code",
   "execution_count": null,
   "metadata": {},
   "outputs": [],
   "source": [
    "sinal_audio, sample_rate_sinal_audio = librosa.load('audios/OSR_us_000_0010_8k.wav', sr=None)\n",
    "print(sample_rate_sinal_audio)\n",
    "plt.figure(figsize=(18, 6))\n",
    "plt.plot(sinal_audio[:int(3.5*sample_rate_sinal_audio)]) # 3.5 segundos do áudio\n",
    "plt.xlabel('Amostras', fontsize = 16)\n",
    "plt.ylabel('Amplitude', fontsize = 16)\n",
    "plt.title('Sinal XY no domínio do Tempo', fontsize = 18)\n",
    "plt.grid(True)\n",
    "plt.show()"
   ]
  },
  {
   "cell_type": "code",
   "execution_count": null,
   "metadata": {},
   "outputs": [],
   "source": [
    "plt.figure(figsize=(18, 6))\n",
    "plt.plot(sinal_audio)\n",
    "plt.xlabel('Amostras', fontsize = 16)\n",
    "plt.ylabel('Amplitude', fontsize = 16)\n",
    "plt.title('Sinal XY no domínio do Tempo', fontsize = 18)\n",
    "plt.grid(True)\n",
    "plt.show()"
   ]
  },
  {
   "cell_type": "code",
   "execution_count": null,
   "metadata": {},
   "outputs": [],
   "source": [
    "ipd.Audio(sinal_audio, rate=sample_rate_sinal_audio) # carrega o som do openspeech"
   ]
  },
  {
   "cell_type": "code",
   "execution_count": null,
   "metadata": {},
   "outputs": [],
   "source": [
    "plt.figure(figsize=(18, 8))\n",
    "\n",
    "X = librosa.stft(x)\n",
    "\n",
    "Xdb = librosa.amplitude_to_db(X) # 20 * log10(sinal)\n",
    "Xdb = librosa.amplitude_to_db(np.abs(X))\n",
    "\n",
    "librosa.display.specshow(Xdb, sr=sample_rate, x_axis='time', y_axis='hz')\n",
    "plt.xlabel('Time', fontsize = 16), plt.ylabel('Hz', fontsize = 16)\n",
    "plt.show()"
   ]
  },
  {
   "cell_type": "code",
   "execution_count": null,
   "metadata": {},
   "outputs": [],
   "source": [
    "plt.figure(figsize=(18, 8))\n",
    "\n",
    "Y = librosa.stft(y)\n",
    "Ydb = librosa.amplitude_to_db(Y) # 20 * log10(sinal)\n",
    "librosa.display.specshow(Ydb, sr=sample_rate, x_axis='time', y_axis='hz')\n",
    "plt.xlabel('Time', fontsize = 16), plt.ylabel('Hz', fontsize = 16)\n",
    "plt.show()"
   ]
  },
  {
   "cell_type": "code",
   "execution_count": null,
   "metadata": {},
   "outputs": [],
   "source": [
    "plt.figure(figsize=(18, 8))\n",
    "\n",
    "XY = librosa.stft(xy)\n",
    "XYdb = librosa.amplitude_to_db(XY) # 20 * log10(sinal)\n",
    "librosa.display.specshow(XYdb, sr=sample_rate, x_axis='time', y_axis='hz')\n",
    "plt.xlabel('Time', fontsize = 16), plt.ylabel('Hz', fontsize = 16)\n",
    "plt.show()"
   ]
  },
  {
   "cell_type": "code",
   "execution_count": null,
   "metadata": {},
   "outputs": [],
   "source": [
    "plt.figure(figsize=(18, 8))\n",
    "\n",
    "SINAL_AUDIO = librosa.stft(sinal_audio)\n",
    "SINAL_AUDIOdb = librosa.amplitude_to_db(SINAL_AUDIO) # 20 * log10(sinal)\n",
    "librosa.display.specshow(SINAL_AUDIOdb, sr=sample_rate_sinal_audio, x_axis='time', y_axis='hz')\n",
    "plt.xlabel('Time', fontsize = 16), plt.ylabel('Hz', fontsize = 16)\n",
    "plt.show()"
   ]
  },
  {
   "cell_type": "code",
   "execution_count": null,
   "metadata": {},
   "outputs": [],
   "source": [
    "plt.figure(figsize=(18, 8))\n",
    "\n",
    "SINAL_AUDIO = librosa.stft(sinal_audio[0:int(3.5 * sample_rate)])\n",
    "SINAL_AUDIOdb = librosa.amplitude_to_db(SINAL_AUDIO) # 20 * log10(sinal)\n",
    "librosa.display.specshow(SINAL_AUDIOdb, sr=sample_rate_sinal_audio, x_axis='time', y_axis='hz')\n",
    "plt.xlabel('Time', fontsize = 16), plt.ylabel('Hz', fontsize = 16)\n",
    "plt.show()"
   ]
  },
  {
   "cell_type": "markdown",
   "metadata": {},
   "source": [
    "## 3. Sinais no domínio da Frequência *vs* log-Mels\n",
    "\n",
    "O ouvido humano não distingue as frequencias com a mesma precisão e não ouve todas as frequências com a mesma intensidade.\n",
    "\n",
    "A cóclea é o orgão é responsável pela transformação dos sinais acústicos em sinais neurais. É um canal espiral ósseo que está dividido e possui uma forma que lembra a concha de um caracol, localizado no interior do osso temporal (estrutura óssea densa, altamente mineralizada e de acesso difícil).\n",
    "\n",
    "<div align=\"center\" style=\"width: 100%;\">\n",
    "    <img src=\"imgs/ear-diagram-picture.jpg\" style=\"width: 90%;\">\n",
    "</div>"
   ]
  },
  {
   "cell_type": "markdown",
   "metadata": {},
   "source": [
    "### Percepção da Cóclea comparada com o Piano\n",
    "\n",
    "<div align=\"center\" style=\"width: 100%;\">\n",
    "    <img src=\"imgs/Coclea-Piano-Graphics.jpg\">\n",
    "</div>"
   ]
  },
  {
   "cell_type": "markdown",
   "metadata": {},
   "source": [
    "### Percepção da Cóclea versus distância percorrida no canal\n",
    "\n",
    "<div align=\"center\" style=\"width: 100%;\">\n",
    "    <img src=\"imgs/tonotopic-principal-of-the-cochlea.jpg\">\n",
    "</div>"
   ]
  },
  {
   "cell_type": "markdown",
   "metadata": {},
   "source": [
    "Assim, várias escalas baseadas na percepção surgiram no passado, a fim de simular este efeito natural que existe no humano. uma delas é a [escala Mel](https://en.wikipedia.org/wiki/Mel_scale). Ela segue este mapa entre as frequências naturais do som e as percebidas pelo ouvido humano:\n",
    "\n",
    "\n",
    "<div align=\"center\" style=\"width: 100%;\">\n",
    "    <img src=\"imgs/Mel-Hz_plot.svg\" style=\"width: 80%\">\n",
    "</div>\n",
    "\n",
    "Para converter Hertz ($f$) em Mel ($m$) nós usamos as seguintes equações:\n",
    "\n",
    "$$\\Large m = 2595 \\log_{10} (1 + \\frac{f}{700})$$\n",
    "\n",
    "$$\\Large f = 700 (10^{m/2595} - 1) $$"
   ]
  },
  {
   "cell_type": "code",
   "execution_count": null,
   "metadata": {},
   "outputs": [],
   "source": []
  }
 ],
 "metadata": {
  "kernelspec": {
   "display_name": "Python 3",
   "language": "python",
   "name": "python3"
  },
  "language_info": {
   "codemirror_mode": {
    "name": "ipython",
    "version": 3
   },
   "file_extension": ".py",
   "mimetype": "text/x-python",
   "name": "python",
   "nbconvert_exporter": "python",
   "pygments_lexer": "ipython3",
   "version": "3.7.4"
  }
 },
 "nbformat": 4,
 "nbformat_minor": 4
}
